{
  "nbformat": 4,
  "nbformat_minor": 0,
  "metadata": {
    "colab": {
      "provenance": [],
      "authorship_tag": "ABX9TyP8xNe5OG93o9bHrtjLJfeT",
      "include_colab_link": true
    },
    "kernelspec": {
      "name": "python3",
      "display_name": "Python 3"
    },
    "language_info": {
      "name": "python"
    }
  },
  "cells": [
    {
      "cell_type": "markdown",
      "metadata": {
        "id": "view-in-github",
        "colab_type": "text"
      },
      "source": [
        "<a href=\"https://colab.research.google.com/github/IakiMendieta/Criptografia/blob/main/cifrado_cesar.ipynb\" target=\"_parent\"><img src=\"https://colab.research.google.com/assets/colab-badge.svg\" alt=\"Open In Colab\"/></a>"
      ]
    },
    {
      "cell_type": "code",
      "execution_count": null,
      "metadata": {
        "id": "ibvIEAEl53Ec"
      },
      "outputs": [],
      "source": [
        "def cifrado_cesar(texto, desplazamiento):\n",
        "    alfabeto = \"ABCDEFGHIJKLMNÑOPQRSTUVWXYZ\"\n",
        "    texto = texto.upper()  # Convertimos el texto a mayúsculas\n",
        "    texto_cifrado = \"\"\n",
        "    for letra in texto:\n",
        "        if letra in alfabeto:\n",
        "            indice_original = alfabeto.index(letra)\n",
        "            indice_cifrado = (indice_original + desplazamiento) % len(alfabeto)\n",
        "            letra_cifrada = alfabeto[indice_cifrado]\n",
        "            texto_cifrado += letra_cifrada\n",
        "        else:\n",
        "            # Si no es una letra del alfabeto, mantenemos el carácter original\n",
        "            texto_cifrado += letra\n",
        "    return texto_cifrado\n",
        "# Ejemplo de uso\n",
        "texto_original = \"OLAA TONOTOS\"\n",
        "desplazamiento = 11\n",
        "texto_cifrado = cifrado_cesar(texto_original, desplazamiento)\n",
        "print(\"Texto cifrado:\", texto_cifrado)"
      ]
    }
  ]
}