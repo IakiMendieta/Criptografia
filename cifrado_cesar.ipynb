{
  "nbformat": 4,
  "nbformat_minor": 0,
  "metadata": {
    "colab": {
      "provenance": [],
      "authorship_tag": "ABX9TyPpjizzH5YSTNAiHwQgtYS2",
      "include_colab_link": true
    },
    "kernelspec": {
      "name": "python3",
      "display_name": "Python 3"
    },
    "language_info": {
      "name": "python"
    }
  },
  "cells": [
    {
      "cell_type": "markdown",
      "metadata": {
        "id": "view-in-github",
        "colab_type": "text"
      },
      "source": [
        "<a href=\"https://colab.research.google.com/github/IakiMendieta/Criptografia/blob/main/cifrado_cesar.ipynb\" target=\"_parent\"><img src=\"https://colab.research.google.com/assets/colab-badge.svg\" alt=\"Open In Colab\"/></a>"
      ]
    },
    {
      "cell_type": "code",
      "execution_count": 1,
      "metadata": {
        "colab": {
          "base_uri": "https://localhost:8080/"
        },
        "id": "ibvIEAEl53Ec",
        "outputId": "cacb55a5-80ce-4c4e-e5d8-1430b9080d80"
      },
      "outputs": [
        {
          "output_type": "stream",
          "name": "stdout",
          "text": [
            "Texto cifrado: ZVLL EZXZEZD\n"
          ]
        }
      ],
      "source": [
        "def cifrado_cesar(texto, desplazamiento):\n",
        "    alfabeto = \"ABCDEFGHIJKLMNÑOPQRSTUVWXYZ\"\n",
        "    texto = texto.upper()  # Convertimos el texto a mayúsculas\n",
        "    texto_cifrado = \"\"\n",
        "    for letra in texto:\n",
        "        if letra in alfabeto:\n",
        "            indice_original = alfabeto.index(letra)\n",
        "            indice_cifrado = (indice_original + desplazamiento) % len(alfabeto)\n",
        "            letra_cifrada = alfabeto[indice_cifrado]\n",
        "            texto_cifrado += letra_cifrada\n",
        "        else:\n",
        "            # Si no es una letra del alfabeto, mantenemos el carácter original\n",
        "            texto_cifrado += letra\n",
        "    return texto_cifrado\n",
        "# Ejemplo de uso\n",
        "texto_original = \"OLAA TONOTOS\"\n",
        "desplazamiento = 11\n",
        "texto_cifrado = cifrado_cesar(texto_original, desplazamiento)\n",
        "print(\"Texto cifrado:\", texto_cifrado)"
      ]
    },
    {
      "cell_type": "code",
      "source": [
        "def cifrado_polibio(texto):\n",
        "    matriz_polibio = [\n",
        "        ['A', 'B', 'C', 'D', 'E'],\n",
        "        ['F', 'G', 'H', 'I', 'J'],\n",
        "        ['K', 'L', 'M', 'N', 'Ñ'],\n",
        "        ['O', 'P', 'Q', 'R', 'S'],\n",
        "        ['T', 'U', 'V', 'W', 'X']\n",
        "    ]\n",
        "    texto = texto.upper()  # Convertimos el texto a mayúsculas\n",
        "    texto_cifrado = \"\"\n",
        "    for letra in texto:\n",
        "        if letra.isalpha():\n",
        "            for i in range(len(matriz_polibio)):\n",
        "                for j in range(len(matriz_polibio[i])):\n",
        "                    if matriz_polibio[i][j] == letra:\n",
        "                        # Agregamos los números de fila y columna al texto cifrado\n",
        "                        texto_cifrado += str(i + 1) + str(j + 1)\n",
        "        else:\n",
        "            # Si no es una letra, mantenemos el carácter original\n",
        "            texto_cifrado += letra\n",
        "    return texto_cifrado\n",
        "# Ejemplo de uso\n",
        "texto_original = \"OLAA TONOTOS\"\n",
        "texto_cifrado = cifrado_polibio(texto_original)\n",
        "print(\"Texto cifrado:\", texto_cifrado)"
      ],
      "metadata": {
        "id": "tFTDg8H88E7Z"
      },
      "execution_count": null,
      "outputs": []
    }
  ]
}